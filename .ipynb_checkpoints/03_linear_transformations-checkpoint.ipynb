{
 "cells": [
  {
   "cell_type": "markdown",
   "id": "d4709a1f",
   "metadata": {},
   "source": [
    "# Задание 1\n",
    "Найдите собственные векторы и собственные значения для линейного оператора заданного матрицей."
   ]
  },
  {
   "cell_type": "code",
   "execution_count": 1,
   "id": "12cfa9b2",
   "metadata": {},
   "outputs": [],
   "source": [
    "import numpy as np"
   ]
  },
  {
   "cell_type": "code",
   "execution_count": 2,
   "id": "e9c28f55",
   "metadata": {},
   "outputs": [
    {
     "data": {
      "text/plain": [
       "(array([2., 3.]),\n",
       " array([[-0.89442719,  0.83205029],\n",
       "        [ 0.4472136 , -0.5547002 ]]))"
      ]
     },
     "execution_count": 2,
     "metadata": {},
     "output_type": "execute_result"
    }
   ],
   "source": [
    "A = np.array([[-1, -6], [2, 6]])\n",
    "w, v = np.linalg.eig(A)\n",
    "w, v"
   ]
  },
  {
   "cell_type": "markdown",
   "id": "6d012cc1",
   "metadata": {},
   "source": [
    "# Задание 2\n",
    "Дан оператор поворота на градусов, задаваемый матрицей:\n",
    "\n",
    "$\\begin{vmatrix}\n",
    "-1 & 0 \\\\\n",
    "0 & -1\n",
    "\\end{vmatrix}$\n",
    "\n",
    "Покажите что любой вектор считается для него собственным."
   ]
  },
  {
   "cell_type": "markdown",
   "id": "8caf8b6f",
   "metadata": {},
   "source": [
    "Оператор имеет единственное собственное значение равное, $λ_1 = λ_2 = -1$. Запишем систему для нахождения собственных векторов:\n",
    "\n",
    "$$\n",
    "\\left\\{\n",
    "    \\begin{array}\\\\\n",
    "        -x & -x \\\\\n",
    "        -y & -y \\\\\n",
    "    \\end{array}\n",
    "\\right.\n",
    "$$\n",
    "\n",
    "Система верна при любых значениях x и y, и это означает что любой вектор является для данного оператора собственным."
   ]
  },
  {
   "cell_type": "markdown",
   "id": "6a1f1c0f",
   "metadata": {},
   "source": [
    "# Задание 3\n",
    "Пусть линейный оператор задан матрицей:\n",
    "\n",
    "$\\begin{vmatrix}\n",
    "1 & 1 \\\\\n",
    "-1 & 3\n",
    "\\end{vmatrix}$\n",
    "\n",
    "Установите считается ли вектор , x=(1 ,1) собственным вектором этого линейного оператора."
   ]
  },
  {
   "cell_type": "markdown",
   "id": "31975a42",
   "metadata": {},
   "source": [
    "Найдем собственные значения матрицы: $λ_1 = λ_2 = 2$. Подставим в систему наш вектор и проверим подойдут ли заданные ,\n",
    "значения:\n",
    "\n",
    "$$\n",
    "\\left\\{\n",
    "    \\begin{array}\\\\\n",
    "        2 & = & 2 \\\\\n",
    "        2 & = & 2 \\\\\n",
    "    \\end{array}\n",
    "\\right.\n",
    "$$\n",
    "\n",
    "Система верна при заданных значениях, значит, вектор является собственным."
   ]
  },
  {
   "cell_type": "markdown",
   "id": "b33604b7",
   "metadata": {},
   "source": [
    "# Задание 4\n",
    "\n",
    "Пусть линейный оператор задан матрицей:\n",
    "\n",
    "$\\begin{vmatrix}\n",
    "0 & 3 & 0 \\\\\n",
    "3 & 0 & 0 \\\\\n",
    "0 & 0 & 3 \\\\\n",
    "\\end{vmatrix}$\n",
    "\n",
    "Установите, считается ли вектор x = (3,−3,−4) собственным вектором этого линейного оператора."
   ]
  },
  {
   "cell_type": "code",
   "execution_count": 4,
   "id": "06c4f91e",
   "metadata": {},
   "outputs": [
    {
     "name": "stdout",
     "output_type": "stream",
     "text": [
      "[ 3. -3.  3.]\n"
     ]
    }
   ],
   "source": [
    "A = np.array([[0, 3, 0], [3, 0, 0], [0, 0, 3]])\n",
    "v, _ = np.linalg.eig(A)\n",
    "print(v)"
   ]
  },
  {
   "cell_type": "markdown",
   "id": "9d98bb27",
   "metadata": {},
   "source": [
    "Подставим собственные значения и заданный вектор в систему $A_x = λ_x$, если вектор является собственным, должно выполняться равенство"
   ]
  },
  {
   "cell_type": "code",
   "execution_count": 6,
   "id": "5e198211",
   "metadata": {},
   "outputs": [
    {
     "name": "stdout",
     "output_type": "stream",
     "text": [
      "A * vect = [ -9   9 -12]\n",
      "lambda1 * vect = [  9.  -9. -12.]\n",
      "lambda2 * vect = [-9.  9. 12.]\n",
      "lambda3 * vect = [  9.  -9. -12.]\n"
     ]
    }
   ],
   "source": [
    "vect = np.array([3, -3, -4])\n",
    "print(f'A * vect = {A.dot(vect)}')\n",
    "print(f'lambda1 * vect = {v[0] * vect}')\n",
    "print(f'lambda2 * vect = {v[1] * vect}')\n",
    "print(f'lambda3 * vect = {v[2] * vect}')"
   ]
  },
  {
   "cell_type": "code",
   "execution_count": 7,
   "id": "1162d14b",
   "metadata": {},
   "outputs": [
    {
     "data": {
      "text/plain": [
       "array([[ 0.70710678, -0.70710678,  0.        ],\n",
       "       [ 0.70710678,  0.70710678,  0.        ],\n",
       "       [ 0.        ,  0.        ,  1.        ]])"
      ]
     },
     "execution_count": 7,
     "metadata": {},
     "output_type": "execute_result"
    }
   ],
   "source": [
    "b = np.array([[1, 1], [-1, 3]])\n",
    "v, w = np.linalg.eig(A)\n",
    "w"
   ]
  },
  {
   "cell_type": "markdown",
   "id": "77b08528",
   "metadata": {},
   "source": [
    "Вектор не является собственным."
   ]
  }
 ],
 "metadata": {
  "kernelspec": {
   "display_name": "Python 3 (ipykernel)",
   "language": "python",
   "name": "python3"
  },
  "language_info": {
   "codemirror_mode": {
    "name": "ipython",
    "version": 3
   },
   "file_extension": ".py",
   "mimetype": "text/x-python",
   "name": "python",
   "nbconvert_exporter": "python",
   "pygments_lexer": "ipython3",
   "version": "3.9.12"
  }
 },
 "nbformat": 4,
 "nbformat_minor": 5
}
