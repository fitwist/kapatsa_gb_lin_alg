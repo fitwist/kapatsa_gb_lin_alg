{
 "cells": [
  {
   "cell_type": "code",
   "execution_count": 51,
   "id": "2690172a",
   "metadata": {},
   "outputs": [],
   "source": [
    "import numpy as np\n",
    "from numpy.linalg import matrix_rank"
   ]
  },
  {
   "cell_type": "markdown",
   "id": "e7434ecd",
   "metadata": {},
   "source": [
    "# Часть 1"
   ]
  },
  {
   "cell_type": "markdown",
   "id": "2e7fa7e1",
   "metadata": {},
   "source": [
    "1. Поскольку в вариантах а-б у перемножаемых матриц число столбцов и строк не совпадает, их перемножение невозможно. В случае Г, когда матрицы квадратичны, перемножение возможно. Случай В – исключение. Когда число строк одной таблицы совпадает с числом столбцов другой, и наоборот, перемножение возможно."
   ]
  },
  {
   "cell_type": "markdown",
   "id": "8c711000",
   "metadata": {},
   "source": [
    "2. Найдите сумму и произведение матриц"
   ]
  },
  {
   "cell_type": "code",
   "execution_count": 6,
   "id": "e7ee56df",
   "metadata": {},
   "outputs": [
    {
     "name": "stdout",
     "output_type": "stream",
     "text": [
      "1-я матрица: \n",
      " [[ 1 -2]\n",
      " [ 3  0]]\n",
      "\n",
      "2-я матрица: \n",
      " [[ 4 -1]\n",
      " [ 0  5]]\n",
      "\n",
      "Сумма матриц: \n",
      " [[ 5 -3]\n",
      " [ 3  5]]\n"
     ]
    }
   ],
   "source": [
    "# Найдем сумму матриц  \n",
    "matrix_one = np.array([[1, -2], [3, 0]])\n",
    "matrix_two = np.array([[4, -1], [0, 5]])\n",
    "   \n",
    "print (\"1-я матрица: \\n\", matrix_one) \n",
    "print (\"\\n2-я матрица: \\n\", matrix_two) \n",
    "\n",
    "matrices_sum = np.add(matrix_one, matrix_two) \n",
    "print (\"\\nСумма матриц: \\n\", matrices_sum) "
   ]
  },
  {
   "cell_type": "code",
   "execution_count": 7,
   "id": "619453aa",
   "metadata": {},
   "outputs": [
    {
     "name": "stdout",
     "output_type": "stream",
     "text": [
      "\n",
      "Произведение матриц: \n",
      " [[  4 -11]\n",
      " [ 12  -3]]\n"
     ]
    }
   ],
   "source": [
    "# Найдем произведение матриц. Оно возможно, так как размерности одинаковые.\n",
    "matrices_product = np.dot(matrix_one,matrix_two) \n",
    "print (\"\\nПроизведение матриц: \\n\", matrices_product) "
   ]
  },
  {
   "cell_type": "markdown",
   "id": "ac8b60c8",
   "metadata": {},
   "source": [
    "3. Вычислить линейную комбинацию 3A - 2B + 4C для матриц"
   ]
  },
  {
   "cell_type": "code",
   "execution_count": 8,
   "id": "82dbb8dd",
   "metadata": {},
   "outputs": [
    {
     "name": "stdout",
     "output_type": "stream",
     "text": [
      "[[ 11  -5]\n",
      " [  9 -12]]\n"
     ]
    }
   ],
   "source": [
    "A = np.array([[1, 7], [3, -6]])\n",
    "B = np.array([[0, 5], [2, -1]])\n",
    "C = np.array([[2, -4], [1, 1]])\n",
    "\n",
    "print(3 * A - 2 * B + 4 * C)"
   ]
  },
  {
   "cell_type": "markdown",
   "id": "96a51ee2",
   "metadata": {},
   "source": [
    "4. Вычислите $A * A^{T}, A^{T} * $A."
   ]
  },
  {
   "cell_type": "code",
   "execution_count": 11,
   "id": "4d0cdb4c",
   "metadata": {},
   "outputs": [
    {
     "name": "stdout",
     "output_type": "stream",
     "text": [
      "Матрица: \n",
      " [[ 4  1]\n",
      " [ 5 -2]\n",
      " [ 2  3]]\n"
     ]
    }
   ],
   "source": [
    "A = np.array([[4, 1], [5, -2], [2, 3]])\n",
    "A_T = A.transpose()\n",
    "\n",
    "print (\"Матрица: \\n\", A) "
   ]
  },
  {
   "cell_type": "code",
   "execution_count": 17,
   "id": "44992f3e",
   "metadata": {},
   "outputs": [
    {
     "name": "stdout",
     "output_type": "stream",
     "text": [
      "𝐴∗𝐴^𝑇\n"
     ]
    },
    {
     "data": {
      "text/plain": [
       "array([[17, 18, 11],\n",
       "       [18, 29,  4],\n",
       "       [11,  4, 13]])"
      ]
     },
     "execution_count": 17,
     "metadata": {},
     "output_type": "execute_result"
    }
   ],
   "source": [
    "print(\"𝐴 ∗ 𝐴^𝑇\")\n",
    "np.dot(A,A.T)"
   ]
  },
  {
   "cell_type": "code",
   "execution_count": 18,
   "id": "4d463299",
   "metadata": {},
   "outputs": [
    {
     "name": "stdout",
     "output_type": "stream",
     "text": [
      "𝐴^𝑇 * A\n"
     ]
    },
    {
     "data": {
      "text/plain": [
       "array([[45,  0],\n",
       "       [ 0, 14]])"
      ]
     },
     "execution_count": 18,
     "metadata": {},
     "output_type": "execute_result"
    }
   ],
   "source": [
    "print(\"𝐴^𝑇 * A\")\n",
    "np.dot(A.T,A)"
   ]
  },
  {
   "cell_type": "markdown",
   "id": "f777617b",
   "metadata": {},
   "source": [
    "5. Напишите функцию перемножения двух произвольных матриц без использования NumPy"
   ]
  },
  {
   "cell_type": "code",
   "execution_count": 33,
   "id": "9c691696",
   "metadata": {},
   "outputs": [],
   "source": [
    "class Matrix:\n",
    "    def __init__(self, matrix):\n",
    "        self.matrix= matrix\n",
    "\n",
    "    def __str__(self):\n",
    "        return ','.join(map(str, self.matrix)).replace(']', '\\n').replace('[', '').replace(',', '')\n",
    "\n",
    "    def __add__(self, other):\n",
    "        if len(self.matrix) == len(other.matrix):\n",
    "            for row1, row2 in zip(self.matrix, other.matrix):\n",
    "                if len(row1) != len(row2):\n",
    "                    return f'Количество столбцов не равно, эти матрицы нельзя сложить'\n",
    "                    result = [[a + b for a, b in zip(row1, row2)] for row1, row2 in zip(self.matrix, other.matrix)]\n",
    "                    return ','.join(map(str, result)).replace(']', '\\n').replace('[', '').replace(',', '')\n",
    "                else:\n",
    "                    return f'Количество строк не равно, эти матрицы нельзя сложить'\n",
    "                \n",
    "    def __mul__(self, other):\n",
    "        result = []\n",
    "        try:\n",
    "            for row in self.matrix:\n",
    "                row_result = []\n",
    "                for i in range(len(other.matrix[0])):\n",
    "                    num = 0\n",
    "                    for idx, el in enumerate(row):\n",
    "                        num += (el * other.matrix[idx][i])\n",
    "                    row_result.append(num)\n",
    "                result.append(row_result)\n",
    "            return ','.join(map(str, result)).replace(']', '\\n').replace('[', '').replace(',', '')\n",
    "        except:\n",
    "            return f'Умножение матриц данной размерности невозможно'"
   ]
  },
  {
   "cell_type": "code",
   "execution_count": 34,
   "id": "99f3623c",
   "metadata": {},
   "outputs": [
    {
     "name": "stdout",
     "output_type": "stream",
     "text": [
      "1-я матрица:\n",
      " 1 2 3\n",
      "4 5 6\n",
      "7 8 9\n",
      "\n",
      "\n",
      "2-я матрица:\n",
      " 10 20 30\n",
      "40 50 60\n",
      "70 80 90\n",
      "\n",
      "Сумма матриц: Количество строк не равно, эти матрицы нельзя сложить\n"
     ]
    }
   ],
   "source": [
    "m_1 = Matrix([[1, 2, 3], [4, 5, 6], [7, 8, 9]])\n",
    "m_2 = Matrix([[10, 20, 30], [40, 50, 60], [70, 80, 90]])\n",
    "print (\"1-я матрица:\\n\", m_1) \n",
    "print (\"\\n2-я матрица:\\n\", m_2) \n",
    "\n",
    "print (\"Сумма матриц:\", m_1 + m_2) "
   ]
  },
  {
   "cell_type": "code",
   "execution_count": 37,
   "id": "07559de6",
   "metadata": {},
   "outputs": [
    {
     "name": "stdout",
     "output_type": "stream",
     "text": [
      "3-я матрица:\n",
      " 1 2 3\n",
      "4 5 6\n",
      "7 8 9\n",
      "\n",
      "\n",
      "4-я матрица:\n",
      " 10 20 30\n",
      "40 50 60\n",
      "70 80 90\n",
      "\n",
      "Произведение 1-й и 2-й матриц:\n",
      " 300 360 420\n",
      "660 810 960\n",
      "1020 1260 1500\n",
      "\n"
     ]
    }
   ],
   "source": [
    "m_3 = Matrix([[4, 1], [5, -2], [2, 3]])\n",
    "m_4 = Matrix([[ 4, 5, 2], [ 1, -2, 3]])\n",
    "print (\"3-я матрица:\\n\", m_1) \n",
    "print (\"\\n4-я матрица:\\n\", m_2)\n",
    "\n",
    "print(\"Произведение 1-й и 2-й матриц:\\n\", m_1 * m_2)"
   ]
  },
  {
   "cell_type": "markdown",
   "id": "418941e4",
   "metadata": {},
   "source": [
    "# Часть 2\n",
    "1. Вычислить определители:\n",
    "\n",
    "$\\begin{vmatrix}\n",
    "sin(x) & cos(x) \\\\\n",
    "cos(x) & sin(x) \n",
    "\\end{vmatrix} = sin^{2} + cos^{2} = 1$"
   ]
  },
  {
   "cell_type": "code",
   "execution_count": 42,
   "id": "e24c4b8c",
   "metadata": {},
   "outputs": [
    {
     "data": {
      "text/plain": [
       "180.0"
      ]
     },
     "execution_count": 42,
     "metadata": {},
     "output_type": "execute_result"
    }
   ],
   "source": [
    "A = np.array([[4, 2, 3], [0, 5, 1], [0, 0, 9]])\n",
    "np.linalg.det(A)"
   ]
  },
  {
   "cell_type": "code",
   "execution_count": 46,
   "id": "329a3696",
   "metadata": {},
   "outputs": [
    {
     "data": {
      "text/plain": [
       "-9.51619735392994e-16"
      ]
     },
     "execution_count": 46,
     "metadata": {},
     "output_type": "execute_result"
    }
   ],
   "source": [
    "B = np.array([[1, 2, 3], [4, 5, 6], [7, 8, 9]])\n",
    "np.linalg.det(B)"
   ]
  },
  {
   "cell_type": "markdown",
   "id": "1f537419",
   "metadata": {},
   "source": [
    "2. Найти детерминанты матрицы в квадрате, транспонированной матрицы, удвоенной матрицы\n",
    "\n",
    "а) $det|AB| = detA * detB$\n",
    "\n",
    "$det|A^{T}| = 4 * 4 = 16$\n",
    "\n",
    "\n",
    "б) $det|A| = det|A^{T}|$\n",
    "\n",
    "$det|A^{T}| = 4$\n",
    "\n",
    "в) При умножении матрицы на два определитель тоже увеличивается в $2^{n}$ раз, где n - число строк.\n",
    "\n",
    "$det|2A| = 2^{n} * 4 = 2^{n+2}$"
   ]
  },
  {
   "cell_type": "markdown",
   "id": "6ed34c4a",
   "metadata": {},
   "source": [
    "3. Докажите вырожденность матрицы"
   ]
  },
  {
   "cell_type": "code",
   "execution_count": 49,
   "id": "f8e30eb9",
   "metadata": {},
   "outputs": [
    {
     "name": "stdout",
     "output_type": "stream",
     "text": [
      "Определитель равен 0.0. Матрица вырожденная\n"
     ]
    }
   ],
   "source": [
    "A = np.array([[-2, 7, -3], [4, -14, 6], [-3, 7, 13]])\n",
    "\n",
    "if np.linalg.det(A) == 0:\n",
    "    print(f'Определитель равен {np.linalg.det(A)}. Матрица вырожденная')\n",
    "else:\n",
    "    print('Матрица невырожденная')"
   ]
  },
  {
   "cell_type": "markdown",
   "id": "02234dbb",
   "metadata": {},
   "source": [
    "4. Найти ранги матриц"
   ]
  },
  {
   "cell_type": "code",
   "execution_count": 53,
   "id": "49de57b5",
   "metadata": {},
   "outputs": [
    {
     "name": "stdout",
     "output_type": "stream",
     "text": [
      "Ранг матрицы A: 2\n"
     ]
    }
   ],
   "source": [
    "A = np.array([[1, 2, 3], [1, 1, 1], [2, 3, 4]])\n",
    "print(f'Ранг матрицы A: {matrix_rank(A)}')"
   ]
  },
  {
   "cell_type": "code",
   "execution_count": 54,
   "id": "eeeb787d",
   "metadata": {},
   "outputs": [
    {
     "name": "stdout",
     "output_type": "stream",
     "text": [
      "Ранг матрицы B: 3\n"
     ]
    }
   ],
   "source": [
    "B = np.array([[0, 0, 2, 1], [0, 0, 2, 2], [0, 0, 4, 3], [2, 3, 5, 6]])\n",
    "print(f'Ранг матрицы B: {matrix_rank(B)}')"
   ]
  }
 ],
 "metadata": {
  "kernelspec": {
   "display_name": "Python 3 (ipykernel)",
   "language": "python",
   "name": "python3"
  },
  "language_info": {
   "codemirror_mode": {
    "name": "ipython",
    "version": 3
   },
   "file_extension": ".py",
   "mimetype": "text/x-python",
   "name": "python",
   "nbconvert_exporter": "python",
   "pygments_lexer": "ipython3",
   "version": "3.9.12"
  }
 },
 "nbformat": 4,
 "nbformat_minor": 5
}
