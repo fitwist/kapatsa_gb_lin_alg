{
 "cells": [
  {
   "cell_type": "markdown",
   "id": "46b216ca",
   "metadata": {},
   "source": [
    "# ЧАСТЬ 1"
   ]
  },
  {
   "cell_type": "markdown",
   "id": "09acdd6c",
   "metadata": {},
   "source": [
    "1. Мы выразили функцию через линейную комбинацию остальных, значит, вектора линейно зависимы."
   ]
  },
  {
   "cell_type": "markdown",
   "id": "415eb6ec",
   "metadata": {},
   "source": [
    "2. Вектора линейно зависимы"
   ]
  },
  {
   "cell_type": "markdown",
   "id": "90ccb544",
   "metadata": {},
   "source": [
    "3. (1/2, 1, 3)"
   ]
  },
  {
   "cell_type": "markdown",
   "id": "e177fd46",
   "metadata": {},
   "source": [
    "4. (3, -2, 0)"
   ]
  },
  {
   "cell_type": "markdown",
   "id": "b3ceda31",
   "metadata": {},
   "source": [
    "5. а) сложим два вектора и получим ) (1, 0, 1) (0, 1, 1). Получим вектор (1, 1, 2). Принадлежности подпространству нет, значит, совокупность – не подпространство."
   ]
  },
  {
   "cell_type": "markdown",
   "id": "10044f48",
   "metadata": {},
   "source": [
    "# ЧАСТЬ 2"
   ]
  },
  {
   "cell_type": "markdown",
   "id": "499c932a",
   "metadata": {},
   "source": [
    "1. a) 33, б) -23"
   ]
  },
  {
   "cell_type": "markdown",
   "id": "1b88a9f7",
   "metadata": {},
   "source": [
    "2. (6.0, 13.0, 26.176952171666557)"
   ]
  },
  {
   "cell_type": "markdown",
   "id": "555825b5",
   "metadata": {},
   "source": [
    "3. 2-я и 3-я аксиомы не выполняются, значит, за скалярное произведение произведение длин принимать нельзя, либо пространство не евклидово. Во втором случае все аксиомы прошли проверку."
   ]
  },
  {
   "cell_type": "markdown",
   "id": "c6644707",
   "metadata": {},
   "source": [
    "4. Cлучай г) является стандартным ОНБ в пространстве R3. В случае а) не хватает одного вектора для образования трехмерного базиса. б) (0.0, 0.0, 0.0, 0.9999999999999999, 0.9999999999999999, 1.0) в) (-0.25, 0.0, 0.5, 0.7071067811865476, 0.7071067811865476, 1.0) в не образуют ортонормированный базис"
   ]
  }
 ],
 "metadata": {
  "kernelspec": {
   "display_name": "Python 3 (ipykernel)",
   "language": "python",
   "name": "python3"
  },
  "language_info": {
   "codemirror_mode": {
    "name": "ipython",
    "version": 3
   },
   "file_extension": ".py",
   "mimetype": "text/x-python",
   "name": "python",
   "nbconvert_exporter": "python",
   "pygments_lexer": "ipython3",
   "version": "3.9.12"
  }
 },
 "nbformat": 4,
 "nbformat_minor": 5
}
