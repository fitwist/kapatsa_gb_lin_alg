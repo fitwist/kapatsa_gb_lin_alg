{
 "cells": [
  {
   "cell_type": "code",
   "execution_count": 1,
   "id": "51900f72",
   "metadata": {},
   "outputs": [],
   "source": [
    "import math\n",
    "import numpy as np"
   ]
  },
  {
   "cell_type": "code",
   "execution_count": 2,
   "id": "97677026",
   "metadata": {},
   "outputs": [],
   "source": [
    "# Настроим количество отображаемых десятичных знаков\n",
    "np.set_printoptions(precision=2, suppress=True)"
   ]
  },
  {
   "cell_type": "code",
   "execution_count": 3,
   "id": "86cd253a",
   "metadata": {},
   "outputs": [
    {
     "name": "stdout",
     "output_type": "stream",
     "text": [
      "Матрица A:\n",
      "[[ 1  2  0]\n",
      " [ 0  0  5]\n",
      " [ 3 -4  2]\n",
      " [ 1  6  5]\n",
      " [ 0  1  0]]\n"
     ]
    }
   ],
   "source": [
    "# Инициируем матрицу\n",
    "A = np.array([[1, 2, 0],\n",
    "              [0, 0, 5],\n",
    "              [3, -4, 2],\n",
    "              [1, 6, 5],\n",
    "              [0, 1, 0]])\n",
    "print(f'Матрица A:\\n{A}')"
   ]
  },
  {
   "cell_type": "code",
   "execution_count": 9,
   "id": "7c2f865b",
   "metadata": {},
   "outputs": [
    {
     "name": "stdout",
     "output_type": "stream",
     "text": [
      "Матрица D:\n",
      "[[8.82 0.   0.  ]\n",
      " [0.   6.14 0.  ]\n",
      " [0.   0.   2.53]\n",
      " [0.   0.   0.  ]\n",
      " [0.   0.   0.  ]]\n",
      "\n",
      "Матрица U:\n",
      "[[ 0.17  0.16 -0.53 -0.8  -0.16]\n",
      " [ 0.39 -0.53  0.61 -0.43  0.03]\n",
      " [-0.14 -0.82 -0.52  0.14  0.07]\n",
      " [ 0.89  0.06 -0.25  0.38 -0.06]\n",
      " [ 0.08  0.11 -0.08 -0.11  0.98]]\n",
      "\n",
      "Матрица V:\n",
      "[[ 0.07 -0.37 -0.93]\n",
      " [ 0.72  0.67 -0.21]\n",
      " [ 0.69 -0.65  0.31]]\n",
      "\n",
      "Исходная матрица (проверка):\n",
      " [[ 1.  2.  0.]\n",
      " [ 0. -0.  5.]\n",
      " [ 3. -4.  2.]\n",
      " [ 1.  6.  5.]\n",
      " [-0.  1.  0.]]\n"
     ]
    }
   ],
   "source": [
    "# Выполним сингуля́рное разложение матрицы (SVD)\n",
    "U, s, W = np.linalg.svd(A)\n",
    "\n",
    "# Транспонируем матрицу W\n",
    "V = W.T\n",
    "\n",
    "# Определим список диагональных элементов s\n",
    "D = np.zeros_like(A, dtype=float)\n",
    "\n",
    "# Выделим диагональные элементы s\n",
    "D[np.diag_indices(min(A.shape))] = s\n",
    "\n",
    "print(f'Матрица D:\\n{D}')\n",
    "print(f'\\nМатрица U:\\n{U}')\n",
    "print(f'\\nМатрица V:\\n{V}')\n",
    "\n",
    "# Проверим, верно ли выполнено SVD, перемножив матрицы по формуле\n",
    "print(f'\\nИсходная матрица (проверка):\\n {np.dot(np.dot(U, D), V.T)}')"
   ]
  },
  {
   "cell_type": "code",
   "execution_count": 6,
   "id": "e6356394",
   "metadata": {},
   "outputs": [
    {
     "name": "stdout",
     "output_type": "stream",
     "text": [
      "Евклидова норма: 8.824868854820442\n"
     ]
    }
   ],
   "source": [
    "# Найдем евклидову норму – максимальное число из диагональных\n",
    "print(f'Евклидова норма: {max(s)}')"
   ]
  },
  {
   "cell_type": "code",
   "execution_count": 10,
   "id": "3d8ec419",
   "metadata": {},
   "outputs": [
    {
     "name": "stdout",
     "output_type": "stream",
     "text": [
      "Норма Фробениуса: 11.045361017187261\n"
     ]
    }
   ],
   "source": [
    "# Найдем норму Фробениуса – корень квадратный из суммы квадратов диаональных элементов\n",
    "sum_kv = 0\n",
    "for num in s:\n",
    "    sum_kv += num**2\n",
    "print(f'Норма Фробениуса: {math.sqrt(sum_kv)}')"
   ]
  }
 ],
 "metadata": {
  "kernelspec": {
   "display_name": "Python 3",
   "language": "python",
   "name": "python3"
  },
  "language_info": {
   "codemirror_mode": {
    "name": "ipython",
    "version": 3
   },
   "file_extension": ".py",
   "mimetype": "text/x-python",
   "name": "python",
   "nbconvert_exporter": "python",
   "pygments_lexer": "ipython3",
   "version": "3.7.9 (v3.7.9:13c94747c7, Aug 15 2020, 01:31:08) \n[Clang 6.0 (clang-600.0.57)]"
  },
  "vscode": {
   "interpreter": {
    "hash": "aee8b7b246df8f9039afb4144a1f6fd8d2ca17a180786b69acc140d282b71a49"
   }
  }
 },
 "nbformat": 4,
 "nbformat_minor": 5
}
